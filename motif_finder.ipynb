{
 "cells": [
  {
   "cell_type": "code",
   "execution_count": 3,
   "metadata": {},
   "outputs": [],
   "source": [
    "import matplotlib.pyplot as plt\n",
    "import numpy as np\n",
    "\n",
    "\n",
    "from sklearn.model_selection import train_test_split\n",
    "from sklearn.metrics import accuracy_score\n",
    "from nn.nn import NeuralNetwork\n",
    "from nn.preprocess import sample_seqs, one_hot_encode_seqs\n",
    "from nn.io import read_text_file, read_fasta_file"
   ]
  },
  {
   "cell_type": "code",
   "execution_count": null,
   "metadata": {},
   "outputs": [],
   "source": [
    "# Load  Sequences\n",
    "positive_seqs = read_text_file(\"data/rap1-lieb-positives.txt\")  \n",
    "negative_seqs = read_fasta_file(\"data/yeast-upstream-1k-negative.fa\")  \n"
   ]
  },
  {
   "cell_type": "code",
   "execution_count": null,
   "metadata": {},
   "outputs": [],
   "source": [
    "seq_length = len(positive_seqs[0])\n",
    "negative_windows = []\n",
    "for seq in negative_seqs:\n",
    "    # Generate all possible subsequences of length `seq_length`\n",
    "    for i in range(len(seq) - seq_length + 1): \n",
    "        negative_windows.append(seq[i : i + seq_length])\n",
    "\n",
    "all_seqs = positive_seqs + negative_windows  # Combine sequences\n",
    "all_labels = [True] * len(positive_seqs) + [False] * len(negative_seqs) \n",
    "\n",
    "# Balance the dataset\n",
    "balanced_seqs, balanced_labels = sample_seqs(all_seqs, all_labels)  \n",
    "\n"
   ]
  },
  {
   "cell_type": "code",
   "execution_count": 24,
   "metadata": {},
   "outputs": [],
   "source": [
    "# One-Hot Encode Sequences\n",
    "X = one_hot_encode_seqs(balanced_seqs)\n",
    "y = np.array(balanced_labels).reshape(-1, 1)  \n",
    "\n",
    "# Split data\n",
    "X_train, X_val, y_train, y_val = train_test_split(X, y, test_size=0.2, random_state=42)\n",
    "\n",
    "# Transpose for neural network input (features, samples)\n",
    "X_train, X_val = X_train.T, X_val.T\n",
    "y_train, y_val = y_train.T, y_val.T\n"
   ]
  },
  {
   "cell_type": "code",
   "execution_count": 33,
   "metadata": {},
   "outputs": [
    {
     "name": "stdout",
     "output_type": "stream",
     "text": [
      "Epoch 0: Train Loss = 0.6899, Val Loss = 0.6899\n",
      "Epoch 10: Train Loss = 0.6893, Val Loss = 0.6893\n",
      "Epoch 20: Train Loss = 0.6886, Val Loss = 0.6886\n",
      "Epoch 30: Train Loss = 0.6880, Val Loss = 0.6880\n",
      "Epoch 40: Train Loss = 0.6873, Val Loss = 0.6873\n",
      "Epoch 50: Train Loss = 0.6866, Val Loss = 0.6866\n",
      "Epoch 60: Train Loss = 0.6859, Val Loss = 0.6859\n",
      "Epoch 70: Train Loss = 0.6852, Val Loss = 0.6851\n",
      "Epoch 80: Train Loss = 0.6844, Val Loss = 0.6843\n",
      "Epoch 90: Train Loss = 0.6836, Val Loss = 0.6835\n",
      "Epoch 100: Train Loss = 0.6828, Val Loss = 0.6827\n",
      "Epoch 110: Train Loss = 0.6819, Val Loss = 0.6818\n",
      "Epoch 120: Train Loss = 0.6810, Val Loss = 0.6809\n",
      "Epoch 130: Train Loss = 0.6801, Val Loss = 0.6799\n",
      "Epoch 140: Train Loss = 0.6791, Val Loss = 0.6789\n",
      "Epoch 150: Train Loss = 0.6780, Val Loss = 0.6778\n",
      "Epoch 160: Train Loss = 0.6769, Val Loss = 0.6767\n",
      "Epoch 170: Train Loss = 0.6757, Val Loss = 0.6755\n",
      "Epoch 180: Train Loss = 0.6744, Val Loss = 0.6742\n",
      "Epoch 190: Train Loss = 0.6731, Val Loss = 0.6728\n",
      "Epoch 200: Train Loss = 0.6716, Val Loss = 0.6713\n",
      "Epoch 210: Train Loss = 0.6701, Val Loss = 0.6698\n",
      "Epoch 220: Train Loss = 0.6684, Val Loss = 0.6681\n",
      "Epoch 230: Train Loss = 0.6667, Val Loss = 0.6664\n",
      "Epoch 240: Train Loss = 0.6648, Val Loss = 0.6645\n",
      "Epoch 250: Train Loss = 0.6629, Val Loss = 0.6625\n",
      "Epoch 260: Train Loss = 0.6608, Val Loss = 0.6604\n",
      "Epoch 270: Train Loss = 0.6585, Val Loss = 0.6581\n",
      "Epoch 280: Train Loss = 0.6562, Val Loss = 0.6558\n",
      "Epoch 290: Train Loss = 0.6537, Val Loss = 0.6532\n",
      "Epoch 300: Train Loss = 0.6510, Val Loss = 0.6505\n",
      "Epoch 310: Train Loss = 0.6481, Val Loss = 0.6476\n",
      "Epoch 320: Train Loss = 0.6450, Val Loss = 0.6445\n",
      "Epoch 330: Train Loss = 0.6417, Val Loss = 0.6412\n",
      "Epoch 340: Train Loss = 0.6383, Val Loss = 0.6377\n",
      "Epoch 350: Train Loss = 0.6345, Val Loss = 0.6340\n",
      "Epoch 360: Train Loss = 0.6306, Val Loss = 0.6300\n",
      "Epoch 370: Train Loss = 0.6263, Val Loss = 0.6257\n",
      "Epoch 380: Train Loss = 0.6218, Val Loss = 0.6212\n",
      "Epoch 390: Train Loss = 0.6170, Val Loss = 0.6163\n",
      "Epoch 400: Train Loss = 0.6118, Val Loss = 0.6111\n",
      "Epoch 410: Train Loss = 0.6063, Val Loss = 0.6056\n",
      "Epoch 420: Train Loss = 0.6005, Val Loss = 0.5997\n",
      "Epoch 430: Train Loss = 0.5942, Val Loss = 0.5934\n",
      "Epoch 440: Train Loss = 0.5876, Val Loss = 0.5867\n",
      "Epoch 450: Train Loss = 0.5805, Val Loss = 0.5796\n",
      "Epoch 460: Train Loss = 0.5730, Val Loss = 0.5720\n",
      "Epoch 470: Train Loss = 0.5651, Val Loss = 0.5640\n",
      "Epoch 480: Train Loss = 0.5567, Val Loss = 0.5556\n",
      "Epoch 490: Train Loss = 0.5479, Val Loss = 0.5467\n",
      "Epoch 500: Train Loss = 0.5386, Val Loss = 0.5373\n",
      "Epoch 510: Train Loss = 0.5289, Val Loss = 0.5275\n",
      "Epoch 520: Train Loss = 0.5187, Val Loss = 0.5172\n",
      "Epoch 530: Train Loss = 0.5080, Val Loss = 0.5065\n",
      "Epoch 540: Train Loss = 0.4969, Val Loss = 0.4953\n",
      "Epoch 550: Train Loss = 0.4853, Val Loss = 0.4836\n",
      "Epoch 560: Train Loss = 0.4733, Val Loss = 0.4716\n",
      "Epoch 570: Train Loss = 0.4610, Val Loss = 0.4591\n",
      "Epoch 580: Train Loss = 0.4483, Val Loss = 0.4464\n",
      "Epoch 590: Train Loss = 0.4353, Val Loss = 0.4334\n",
      "Epoch 600: Train Loss = 0.4221, Val Loss = 0.4201\n",
      "Epoch 610: Train Loss = 0.4087, Val Loss = 0.4066\n",
      "Epoch 620: Train Loss = 0.3951, Val Loss = 0.3930\n",
      "Epoch 630: Train Loss = 0.3814, Val Loss = 0.3793\n",
      "Epoch 640: Train Loss = 0.3676, Val Loss = 0.3655\n",
      "Epoch 650: Train Loss = 0.3538, Val Loss = 0.3518\n",
      "Epoch 660: Train Loss = 0.3401, Val Loss = 0.3381\n",
      "Epoch 670: Train Loss = 0.3265, Val Loss = 0.3245\n",
      "Epoch 680: Train Loss = 0.3130, Val Loss = 0.3110\n",
      "Epoch 690: Train Loss = 0.2997, Val Loss = 0.2978\n",
      "Epoch 700: Train Loss = 0.2867, Val Loss = 0.2848\n",
      "Epoch 710: Train Loss = 0.2740, Val Loss = 0.2721\n",
      "Epoch 720: Train Loss = 0.2616, Val Loss = 0.2598\n",
      "Epoch 730: Train Loss = 0.2496, Val Loss = 0.2479\n",
      "Epoch 740: Train Loss = 0.2380, Val Loss = 0.2363\n",
      "Epoch 750: Train Loss = 0.2269, Val Loss = 0.2252\n",
      "Epoch 760: Train Loss = 0.2162, Val Loss = 0.2145\n",
      "Epoch 770: Train Loss = 0.2059, Val Loss = 0.2043\n",
      "Epoch 780: Train Loss = 0.1960, Val Loss = 0.1946\n",
      "Epoch 790: Train Loss = 0.1867, Val Loss = 0.1853\n",
      "Epoch 800: Train Loss = 0.1778, Val Loss = 0.1765\n",
      "Epoch 810: Train Loss = 0.1693, Val Loss = 0.1681\n",
      "Epoch 820: Train Loss = 0.1613, Val Loss = 0.1602\n",
      "Epoch 830: Train Loss = 0.1538, Val Loss = 0.1527\n",
      "Epoch 840: Train Loss = 0.1466, Val Loss = 0.1456\n",
      "Epoch 850: Train Loss = 0.1399, Val Loss = 0.1390\n",
      "Epoch 860: Train Loss = 0.1335, Val Loss = 0.1327\n",
      "Epoch 870: Train Loss = 0.1276, Val Loss = 0.1268\n",
      "Epoch 880: Train Loss = 0.1219, Val Loss = 0.1213\n",
      "Epoch 890: Train Loss = 0.1166, Val Loss = 0.1160\n",
      "Epoch 900: Train Loss = 0.1117, Val Loss = 0.1111\n",
      "Epoch 910: Train Loss = 0.1070, Val Loss = 0.1065\n",
      "Epoch 920: Train Loss = 0.1026, Val Loss = 0.1022\n",
      "Epoch 930: Train Loss = 0.0984, Val Loss = 0.0981\n",
      "Epoch 940: Train Loss = 0.0945, Val Loss = 0.0943\n",
      "Epoch 950: Train Loss = 0.0909, Val Loss = 0.0907\n",
      "Epoch 960: Train Loss = 0.0874, Val Loss = 0.0873\n",
      "Epoch 970: Train Loss = 0.0841, Val Loss = 0.0841\n",
      "Epoch 980: Train Loss = 0.0811, Val Loss = 0.0810\n",
      "Epoch 990: Train Loss = 0.0782, Val Loss = 0.0782\n",
      "Epoch 1000: Train Loss = 0.0754, Val Loss = 0.0755\n",
      "Epoch 1010: Train Loss = 0.0728, Val Loss = 0.0730\n",
      "Epoch 1020: Train Loss = 0.0704, Val Loss = 0.0705\n",
      "Epoch 1030: Train Loss = 0.0681, Val Loss = 0.0683\n",
      "Epoch 1040: Train Loss = 0.0659, Val Loss = 0.0661\n",
      "Epoch 1050: Train Loss = 0.0638, Val Loss = 0.0641\n",
      "Epoch 1060: Train Loss = 0.0618, Val Loss = 0.0621\n",
      "Epoch 1070: Train Loss = 0.0600, Val Loss = 0.0603\n",
      "Epoch 1080: Train Loss = 0.0582, Val Loss = 0.0586\n",
      "Epoch 1090: Train Loss = 0.0565, Val Loss = 0.0569\n",
      "Epoch 1100: Train Loss = 0.0549, Val Loss = 0.0553\n",
      "Epoch 1110: Train Loss = 0.0534, Val Loss = 0.0538\n",
      "Epoch 1120: Train Loss = 0.0519, Val Loss = 0.0524\n",
      "Epoch 1130: Train Loss = 0.0505, Val Loss = 0.0510\n",
      "Epoch 1140: Train Loss = 0.0492, Val Loss = 0.0497\n",
      "Epoch 1150: Train Loss = 0.0479, Val Loss = 0.0485\n",
      "Epoch 1160: Train Loss = 0.0467, Val Loss = 0.0473\n",
      "Epoch 1170: Train Loss = 0.0456, Val Loss = 0.0462\n",
      "Epoch 1180: Train Loss = 0.0445, Val Loss = 0.0451\n",
      "Epoch 1190: Train Loss = 0.0434, Val Loss = 0.0441\n",
      "Epoch 1200: Train Loss = 0.0424, Val Loss = 0.0431\n",
      "Epoch 1210: Train Loss = 0.0414, Val Loss = 0.0422\n",
      "Epoch 1220: Train Loss = 0.0405, Val Loss = 0.0412\n",
      "Epoch 1230: Train Loss = 0.0396, Val Loss = 0.0404\n",
      "Epoch 1240: Train Loss = 0.0388, Val Loss = 0.0395\n",
      "Epoch 1250: Train Loss = 0.0380, Val Loss = 0.0387\n",
      "Epoch 1260: Train Loss = 0.0372, Val Loss = 0.0380\n",
      "Epoch 1270: Train Loss = 0.0364, Val Loss = 0.0372\n",
      "Epoch 1280: Train Loss = 0.0357, Val Loss = 0.0365\n",
      "Epoch 1290: Train Loss = 0.0350, Val Loss = 0.0358\n",
      "Epoch 1300: Train Loss = 0.0343, Val Loss = 0.0351\n",
      "Epoch 1310: Train Loss = 0.0336, Val Loss = 0.0345\n",
      "Epoch 1320: Train Loss = 0.0330, Val Loss = 0.0339\n",
      "Epoch 1330: Train Loss = 0.0324, Val Loss = 0.0333\n",
      "Epoch 1340: Train Loss = 0.0318, Val Loss = 0.0327\n",
      "Epoch 1350: Train Loss = 0.0313, Val Loss = 0.0322\n",
      "Epoch 1360: Train Loss = 0.0307, Val Loss = 0.0316\n",
      "Epoch 1370: Train Loss = 0.0302, Val Loss = 0.0311\n",
      "Epoch 1380: Train Loss = 0.0297, Val Loss = 0.0306\n",
      "Epoch 1390: Train Loss = 0.0292, Val Loss = 0.0301\n",
      "Epoch 1400: Train Loss = 0.0287, Val Loss = 0.0296\n",
      "Epoch 1410: Train Loss = 0.0282, Val Loss = 0.0292\n",
      "Epoch 1420: Train Loss = 0.0278, Val Loss = 0.0288\n",
      "Epoch 1430: Train Loss = 0.0273, Val Loss = 0.0283\n",
      "Epoch 1440: Train Loss = 0.0269, Val Loss = 0.0279\n",
      "Epoch 1450: Train Loss = 0.0265, Val Loss = 0.0275\n",
      "Epoch 1460: Train Loss = 0.0261, Val Loss = 0.0271\n",
      "Epoch 1470: Train Loss = 0.0257, Val Loss = 0.0267\n",
      "Epoch 1480: Train Loss = 0.0254, Val Loss = 0.0264\n",
      "Epoch 1490: Train Loss = 0.0250, Val Loss = 0.0260\n"
     ]
    }
   ],
   "source": [
    "nn_arch = [\n",
    "    {\"input_dim\": X_train.shape[0], \"output_dim\": 32, \"activation\": \"relu\"},\n",
    "    {\"input_dim\": 32, \"output_dim\": 16, \"activation\": \"relu\"},\n",
    "    {\"input_dim\": 16, \"output_dim\": 1, \"activation\": \"sigmoid\"}  # Binary classification\n",
    "]\n",
    "\n",
    "classifier = NeuralNetwork(\n",
    "    nn_arch=nn_arch,\n",
    "    lr=0.01,\n",
    "    seed=42,\n",
    "    batch_size=128,\n",
    "    epochs=1500,\n",
    "    loss_function='binary_cross_entropy'\n",
    ")\n",
    "\n",
    "train_loss, val_loss = classifier.fit(X_train, y_train, X_val, y_val)\n"
   ]
  },
  {
   "cell_type": "code",
   "execution_count": 34,
   "metadata": {},
   "outputs": [
    {
     "data": {
      "image/png": "[encoded data removed]",
      "text/plain": [
       "<Figure size 800x500 with 1 Axes>"
      ]
     },
     "metadata": {},
     "output_type": "display_data"
    }
   ],
   "source": [
    "plt.figure(figsize=(8, 5))\n",
    "plt.plot(train_loss, label=\"Training Loss\")\n",
    "plt.plot(val_loss, label=\"Validation Loss\", linestyle=\"dashed\")\n",
    "plt.xlabel(\"Epochs\")\n",
    "plt.ylabel(\"Loss (Binary Cross-Entropy)\")\n",
    "plt.title(\"Training and Validation Loss\")\n",
    "plt.legend()\n",
    "plt.show()"
   ]
  },
  {
   "cell_type": "code",
   "execution_count": 27,
   "metadata": {},
   "outputs": [
    {
     "name": "stdout",
     "output_type": "stream",
     "text": [
      "Validation Accuracy: 0.9945\n"
     ]
    }
   ],
   "source": [
    "y_pred = classifier.predict(X_val) >= 0.5  # Convert probabilities to binary labels\n",
    "accuracy = accuracy_score(y_val.flatten(), y_pred.flatten())\n",
    "print(f\"Validation Accuracy: {accuracy:.4f}\")"
   ]
  },
  {
   "cell_type": "markdown",
   "metadata": {},
   "source": [
    " I chose lr = 0.01 because smaller values failed to reach a stable loss even after 5500 epochs, while this learning rate allowed efficient convergence without instability. I set the batch size to 128 as it significantly sped up training while achieving the same final training loss 0.026, which indicates strong reconstruction performance. For the loss function, I selected binary cross-entropy because it is best for binary classification tasks.  These choices ensure an optimal balance between training speed, stability, and accuracy."
   ]
  }
 ],
 "metadata": {
  "kernelspec": {
   "display_name": "fnn",
   "language": "python",
   "name": "python3"
  },
  "language_info": {
   "codemirror_mode": {
    "name": "ipython",
    "version": 3
   },
   "file_extension": ".py",
   "mimetype": "text/x-python",
   "name": "python",
   "nbconvert_exporter": "python",
   "pygments_lexer": "ipython3",
   "version": "3.12.8"
  }
 },
 "nbformat": 4,
 "nbformat_minor": 2
}
